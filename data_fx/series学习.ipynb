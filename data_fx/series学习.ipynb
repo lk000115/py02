{
 "cells": [
  {
   "cell_type": "code",
   "execution_count": 1,
   "id": "initial_id",
   "metadata": {
    "ExecuteTime": {
     "end_time": "2025-10-29T03:10:14.083725Z",
     "start_time": "2025-10-29T03:10:01.947035Z"
    },
    "collapsed": true
   },
   "outputs": [
    {
     "name": "stdout",
     "output_type": "stream",
     "text": [
      "count    7.000000\n",
      "mean     5.714286\n",
      "std      2.690371\n",
      "min      1.000000\n",
      "25%      4.500000\n",
      "50%      6.000000\n",
      "75%      7.500000\n",
      "max      9.000000\n",
      "dtype: float64\n",
      "g    9\n",
      "c    8\n",
      "e    7\n",
      "f    6\n",
      "b    5\n",
      "d    4\n",
      "a    1\n",
      "dtype: int64\n"
     ]
    }
   ],
   "source": [
    "import pandas as pd\n",
    "s = pd.Series([10,2,3,4,5,])\n",
    "# print(s)\n",
    "s = pd.Series([10,2,3,4,5,6],index=['a','b','c','d','e','f'])\n",
    "s = pd.Series([10,2,3,4,5,6],index=['a','b','c','d','e','f'],name='月份')\n",
    "# 通过字典创建\n",
    "d = {'a':1,'b':5,'c':8,'d':4,'e':7,'f':6,'g':9}\n",
    "s = pd.Series(d)    \n",
    "# s = pd.Series([10,2,3,4,5,6])\n",
    "print(s.describe())\n",
    "print(s.sort_values(ascending=False))    #排序 \n"
   ]
  },
  {
   "cell_type": "code",
   "execution_count": 2,
   "id": "c8561df5",
   "metadata": {},
   "outputs": [
    {
     "name": "stdout",
     "output_type": "stream",
     "text": [
      "学生1     88\n",
      "学生2     78\n",
      "学生3     64\n",
      "学生4     92\n",
      "学生5     57\n",
      "学生6     70\n",
      "学生7     88\n",
      "学生8     68\n",
      "学生9     72\n",
      "学生10    60\n",
      "Name: 成绩, dtype: int32\n",
      "成绩的平均值为： 73.7\n",
      "成绩的中位数为： 71.0\n",
      "成绩的标准差为： 12.347289401142081\n",
      "成绩的方差为： 152.45555555555558\n",
      "成绩的最大值为： 92\n",
      "成绩的最小值为： 57\n",
      "大于平均分的学生有： 学生1    88\n",
      "学生2    78\n",
      "学生4    92\n",
      "学生7    88\n",
      "Name: 成绩, dtype: int32\n",
      "大于平均分的学生的成绩的人数： 4\n"
     ]
    }
   ],
   "source": [
    "import numpy as np\n",
    "np.random.seed(42)    # 设置一个随机种子，保证后面每次生成的随机数相同\n",
    "#print(np.random.randint(50,100,10))    # 生成10个50-100之间的随机整数  \n",
    "s = pd.Series(np.random.randint(50,101,10),index=['学生'+ str(i) for i in range(1,11)],name='成绩')\n",
    "print(s)\n",
    "#print(s.describe())\n",
    "print('成绩的平均值为：',s.mean())    # 计算成绩的平均值\n",
    "print('成绩的中位数为：',s.median())    # 计算成绩的中位数\n",
    "print('成绩的标准差为：',s.std())    # 计算成绩的标准差\n",
    "print('成绩的方差为：',s.var())    # 计算成绩的方差\n",
    "print('成绩的最大值为：',s.max())    # 计算成绩的最大值\n",
    "print('成绩的最小值为：',s.min())    # 计算成绩的最小值\n",
    "print('大于平均分的学生有：',s[s>s.mean()]) \n",
    "sore = s[s>s.mean()]\n",
    "print('大于平均分的学生的成绩的人数：',sore.count())"
   ]
  },
  {
   "cell_type": "markdown",
   "id": "08912ab7",
   "metadata": {},
   "source": [
    "### 给定某城市一周的最高温度的series,找出温度超过30度的天数,计算平均温度,将温度从高到低排序,找出温度变化最大的两天"
   ]
  },
  {
   "cell_type": "code",
   "execution_count": 9,
   "id": "9ba90961",
   "metadata": {},
   "outputs": [
    {
     "name": "stdout",
     "output_type": "stream",
     "text": [
      "一周温度为:\n",
      " 周一    28\n",
      "周二    31\n",
      "周三    29\n",
      "周四    32\n",
      "周五    30\n",
      "周六    27\n",
      "周日    33\n",
      "Name: 一周温度, dtype: int64\n",
      "温度超过30度的天数为： Index(['周二', '周四', '周日'], dtype='object')\n",
      "相邻两天之间温度变化值:\n",
      " 周一    NaN\n",
      "周二    3.0\n",
      "周三    2.0\n",
      "周四    3.0\n",
      "周五    2.0\n",
      "周六    3.0\n",
      "周日    6.0\n",
      "Name: 一周温度, dtype: float64\n",
      "温度变化最大的两天为： 周日\n",
      "温度变化最大的两天为： 周日 周二\n"
     ]
    }
   ],
   "source": [
    "temperature = pd.Series([28,31,29,32,30,27,33],index=['周一','周二','周三','周四','周五','周六','周日'],name='一周温度')\n",
    "print('一周温度为:\\n',temperature)\n",
    "print('温度超过30度的天数为：',temperature[temperature>30].index)\n",
    "# 找出温度bian化最大的两天\n",
    "temp_diff = temperature.diff().abs()    # 计算温度的变化值并取绝对值\n",
    "print('相邻两天之间温度变化值:\\n',temp_diff)\n",
    "print('温度变化最大的两天为：',temp_diff.idxmax())\n",
    "t = temp_diff.sort_values(ascending=False)\n",
    "print('温度变化最大的两天为：',t.index[0],t.index[1])"
   ]
  },
  {
   "cell_type": "code",
   "execution_count": null,
   "id": "f938597a",
   "metadata": {},
   "outputs": [
    {
     "name": "stdout",
     "output_type": "stream",
     "text": [
      "股票价格为:\n",
      " 2023-01-01    100\n",
      "2023-01-02    102\n",
      "2023-01-03    101\n",
      "2023-01-04    105\n",
      "2023-01-05    107\n",
      "2023-01-06    106\n",
      "2023-01-07    108\n",
      "2023-01-08    110\n",
      "2023-01-09    109\n",
      "2023-01-10    111\n",
      "Freq: D, Name: 股票价格, dtype: int64\n",
      "股票的日收益率为:\n",
      " 2023-01-04    3.960396\n",
      "2023-01-02    2.000000\n",
      "2023-01-05    1.904762\n",
      "2023-01-07    1.886792\n",
      "2023-01-08    1.851852\n",
      "2023-01-10    1.834862\n",
      "2023-01-09   -0.909091\n",
      "2023-01-06   -0.934579\n",
      "2023-01-03   -0.980392\n",
      "2023-01-01         NaN\n",
      "Name: 股票价格, dtype: float64\n",
      "股票收益率最高的日期为： 2023-01-04 00:00:00 3.960396039603964\n"
     ]
    }
   ],
   "source": [
    "# 股票价格分析\n",
    "prices = pd.Series([100,102,101,105,107,106,108,110,109,111],index=pd.date_range(start='2023-01-01',periods=10),name='股票价格')\n",
    "print('股票价格为:\\n',prices)\n",
    "# 计算股票的日收益率\n",
    "daily_return = prices.pct_change() * 100    # 计算日收益率并转换为百分比\n",
    "print('股票的日收益率为:\\n',daily_return.sort_values(ascending=False))\n",
    "print('股票收益率最高的日期为：',daily_return.idxmax(),daily_return.max())\n",
    "print('股票收益率最低的日期为：',daily_return.idxmin(),daily_return.min())"
   ]
  },
  {
   "cell_type": "code",
   "execution_count": 33,
   "id": "f1b8c3d4",
   "metadata": {},
   "outputs": [
    {
     "name": "stdout",
     "output_type": "stream",
     "text": [
      "每日销售额为:\n",
      " 2024-01-31    1500\n",
      "2024-02-29    1800\n",
      "2024-03-31    1700\n",
      "2024-04-30    2000\n",
      "2024-05-31    2200\n",
      "2024-06-30    2100\n",
      "2024-07-31    2300\n",
      "2024-08-31    2500\n",
      "2024-09-30    2400\n",
      "2024-10-31    2600\n",
      "2024-11-30    2700\n",
      "2024-12-31    2800\n",
      "Freq: ME, Name: 每月销售额, dtype: int64\n",
      "季度平均销售额为:\n",
      " 2024-03-31    1666.666667\n",
      "2024-06-30    2100.000000\n",
      "2024-09-30    2400.000000\n",
      "2024-12-31    2700.000000\n",
      "Freq: QE-DEC, Name: 每月销售额, dtype: float64\n",
      "2024-01-31    False\n",
      "2024-02-29     True\n",
      "2024-03-31    False\n",
      "2024-04-30     True\n",
      "2024-05-31     True\n",
      "2024-06-30    False\n",
      "2024-07-31     True\n",
      "2024-08-31     True\n",
      "2024-09-30    False\n",
      "2024-10-31     True\n",
      "2024-11-30     True\n",
      "2024-12-31     True\n",
      "Freq: ME, Name: 每月销售额, dtype: bool\n",
      "[Timestamp('2024-12-31 00:00:00')]\n"
     ]
    }
   ],
   "source": [
    "# 销售数据分析\n",
    "sales = pd.Series([1500,1800,1700,2000,2200,2100,2300,2500,2400,2600,2700,2800],index=pd.date_range(start='2024-01-01',periods=12,freq='ME'),name='每月销售额')\n",
    "print('每日销售额为:\\n',sales)\n",
    "# 计算季度平均销售额\n",
    "quarterly_sales = sales.resample('QE').mean()\n",
    "print('季度平均销售额为:\\n',quarterly_sales)\n",
    "t = sales.pct_change() * 100\n",
    "t = t>0\n",
    "print(t)\n",
    "# 找出连续增长超过2个月的月份\n",
    "t = t.rolling(3).sum()==3\n",
    "d = t[t].keys().tolist()\n",
    "print(d)\n"
   ]
  },
  {
   "cell_type": "code",
   "execution_count": 41,
   "id": "5718c4e4",
   "metadata": {},
   "outputs": [
    {
     "name": "stdout",
     "output_type": "stream",
     "text": [
      "每小时销售额为:\n",
      " 2024-01-01 00:00:00    51\n",
      "2024-01-01 01:00:00    92\n",
      "2024-01-01 02:00:00    14\n",
      "2024-01-01 03:00:00    71\n",
      "2024-01-01 04:00:00    60\n",
      "2024-01-01 05:00:00    20\n",
      "2024-01-01 06:00:00    82\n",
      "2024-01-01 07:00:00    86\n",
      "2024-01-01 08:00:00    74\n",
      "2024-01-01 09:00:00    74\n",
      "2024-01-01 10:00:00    87\n",
      "2024-01-01 11:00:00    99\n",
      "2024-01-01 12:00:00    23\n",
      "2024-01-01 13:00:00     2\n",
      "2024-01-01 14:00:00    21\n",
      "2024-01-01 15:00:00    52\n",
      "2024-01-01 16:00:00     1\n",
      "2024-01-01 17:00:00    87\n",
      "2024-01-01 18:00:00    29\n",
      "2024-01-01 19:00:00    37\n",
      "2024-01-01 20:00:00     1\n",
      "2024-01-01 21:00:00    63\n",
      "2024-01-01 22:00:00    59\n",
      "2024-01-01 23:00:00    20\n",
      "Freq: h, Name: 每小时销售额, dtype: int32\n",
      "8-22点的销售额为:\n",
      " 2024-01-01 08:00:00    74\n",
      "2024-01-01 09:00:00    74\n",
      "2024-01-01 10:00:00    87\n",
      "2024-01-01 11:00:00    99\n",
      "2024-01-01 12:00:00    23\n",
      "2024-01-01 13:00:00     2\n",
      "2024-01-01 14:00:00    21\n",
      "2024-01-01 15:00:00    52\n",
      "2024-01-01 16:00:00     1\n",
      "2024-01-01 17:00:00    87\n",
      "2024-01-01 18:00:00    29\n",
      "2024-01-01 19:00:00    37\n",
      "2024-01-01 20:00:00     1\n",
      "2024-01-01 21:00:00    63\n",
      "2024-01-01 22:00:00    59\n",
      "Freq: h, Name: 每小时销售额, dtype: int32\n"
     ]
    }
   ],
   "source": [
    "# 每小时销售数据分析\n",
    "# 创建一个包含每小时销售数据的Series\n",
    "np.random.seed(42)\n",
    "hourly_sales = pd.Series(np.random.randint(0,100,size=24),index=pd.date_range(start='2024-01-01',periods=24,freq='h'),name='每小时销售额')\n",
    "print('每小时销售额为:\\n',hourly_sales)\n",
    "# 计算每日总销售额\n",
    "hourly_sales_daily = hourly_sales.resample('D').sum()\n",
    "# 8-22点的销售额\n",
    "day_sales = hourly_sales.between_time('08:00','22:00')\n",
    "print('8-22点的销售额为:\\n',day_sales)"
   ]
  }
 ],
 "metadata": {
  "kernelspec": {
   "display_name": "ac",
   "language": "python",
   "name": "python3"
  },
  "language_info": {
   "codemirror_mode": {
    "name": "ipython",
    "version": 3
   },
   "file_extension": ".py",
   "mimetype": "text/x-python",
   "name": "python",
   "nbconvert_exporter": "python",
   "pygments_lexer": "ipython3",
   "version": "3.12.12"
  }
 },
 "nbformat": 4,
 "nbformat_minor": 5
}
