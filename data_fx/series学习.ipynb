{
 "cells": [
  {
   "cell_type": "code",
   "execution_count": 42,
   "id": "initial_id",
   "metadata": {
    "ExecuteTime": {
     "end_time": "2025-10-29T03:10:14.083725Z",
     "start_time": "2025-10-29T03:10:01.947035Z"
    },
    "collapsed": true
   },
   "outputs": [
    {
     "name": "stdout",
     "output_type": "stream",
     "text": [
      "count    7.000000\n",
      "mean     5.714286\n",
      "std      2.690371\n",
      "min      1.000000\n",
      "25%      4.500000\n",
      "50%      6.000000\n",
      "75%      7.500000\n",
      "max      9.000000\n",
      "dtype: float64\n",
      "a    1\n",
      "d    4\n",
      "b    5\n",
      "f    6\n",
      "e    7\n",
      "c    8\n",
      "g    9\n",
      "dtype: int64\n"
     ]
    }
   ],
   "source": [
    "import pandas as pd\n",
    "s = pd.Series([10,2,3,4,5,])\n",
    "# print(s)\n",
    "s = pd.Series([10,2,3,4,5,6],index=['a','b','c','d','e','f'])\n",
    "s = pd.Series([10,2,3,4,5,6],index=['a','b','c','d','e','f'],name='月份')\n",
    "# 通过字典创建\n",
    "d = {'a':1,'b':5,'c':8,'d':4,'e':7,'f':6,'g':9}\n",
    "s = pd.Series(d)    \n",
    "# s = pd.Series([10,2,3,4,5,6])\n",
    "print(s.describe())\n",
    "print(s.sort_values()) \n"
   ]
  },
  {
   "cell_type": "code",
   "execution_count": 50,
   "id": "c8561df5",
   "metadata": {},
   "outputs": [
    {
     "name": "stdout",
     "output_type": "stream",
     "text": [
      "[88 78 64 92 57 70 88 68 72 60]\n"
     ]
    }
   ],
   "source": [
    "import numpy as np\n",
    "np.random.seed(42)    # 设置一个随机种子，保证后面每次生成的随机数相同\n",
    "print(np.random.randint(50,100,10))    # 生成10个50-100之间的随机整数  "
   ]
  }
 ],
 "metadata": {
  "kernelspec": {
   "display_name": "ac",
   "language": "python",
   "name": "python3"
  },
  "language_info": {
   "codemirror_mode": {
    "name": "ipython",
    "version": 3
   },
   "file_extension": ".py",
   "mimetype": "text/x-python",
   "name": "python",
   "nbconvert_exporter": "python",
   "pygments_lexer": "ipython3",
   "version": "3.12.12"
  }
 },
 "nbformat": 4,
 "nbformat_minor": 5
}
