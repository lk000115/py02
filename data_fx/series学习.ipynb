{
 "cells": [
  {
   "cell_type": "code",
   "execution_count": 66,
   "id": "initial_id",
   "metadata": {
    "ExecuteTime": {
     "end_time": "2025-10-29T03:10:14.083725Z",
     "start_time": "2025-10-29T03:10:01.947035Z"
    },
    "collapsed": true
   },
   "outputs": [
    {
     "name": "stdout",
     "output_type": "stream",
     "text": [
      "count    7.000000\n",
      "mean     5.714286\n",
      "std      2.690371\n",
      "min      1.000000\n",
      "25%      4.500000\n",
      "50%      6.000000\n",
      "75%      7.500000\n",
      "max      9.000000\n",
      "dtype: float64\n",
      "g    9\n",
      "c    8\n",
      "e    7\n",
      "f    6\n",
      "b    5\n",
      "d    4\n",
      "a    1\n",
      "dtype: int64\n"
     ]
    }
   ],
   "source": [
    "import pandas as pd\n",
    "s = pd.Series([10,2,3,4,5,])\n",
    "# print(s)\n",
    "s = pd.Series([10,2,3,4,5,6],index=['a','b','c','d','e','f'])\n",
    "s = pd.Series([10,2,3,4,5,6],index=['a','b','c','d','e','f'],name='月份')\n",
    "# 通过字典创建\n",
    "d = {'a':1,'b':5,'c':8,'d':4,'e':7,'f':6,'g':9}\n",
    "s = pd.Series(d)    \n",
    "# s = pd.Series([10,2,3,4,5,6])\n",
    "print(s.describe())\n",
    "print(s.sort_values(ascending=False))    #排序 \n"
   ]
  },
  {
   "cell_type": "code",
   "execution_count": 61,
   "id": "c8561df5",
   "metadata": {},
   "outputs": [
    {
     "name": "stdout",
     "output_type": "stream",
     "text": [
      "学生1     88\n",
      "学生2     78\n",
      "学生3     64\n",
      "学生4     92\n",
      "学生5     57\n",
      "学生6     70\n",
      "学生7     88\n",
      "学生8     68\n",
      "学生9     72\n",
      "学生10    60\n",
      "Name: 成绩, dtype: int32\n",
      "成绩的平均值为： 73.7\n",
      "成绩的中位数为： 71.0\n",
      "成绩的标准差为： 12.347289401142081\n",
      "成绩的方差为： 152.45555555555558\n",
      "成绩的最大值为： 92\n",
      "成绩的最小值为： 57\n",
      "大于平均分的学生有： 学生1    88\n",
      "学生2    78\n",
      "学生4    92\n",
      "学生7    88\n",
      "Name: 成绩, dtype: int32\n",
      "大于平均分的学生的成绩的人数： 4\n"
     ]
    }
   ],
   "source": [
    "import numpy as np\n",
    "np.random.seed(42)    # 设置一个随机种子，保证后面每次生成的随机数相同\n",
    "#print(np.random.randint(50,100,10))    # 生成10个50-100之间的随机整数  \n",
    "s = pd.Series(np.random.randint(50,101,10),index=['学生'+ str(i) for i in range(1,11)],name='成绩')\n",
    "print(s)\n",
    "#print(s.describe())\n",
    "print('成绩的平均值为：',s.mean())    # 计算成绩的平均值\n",
    "print('成绩的中位数为：',s.median())    # 计算成绩的中位数\n",
    "print('成绩的标准差为：',s.std())    # 计算成绩的标准差\n",
    "print('成绩的方差为：',s.var())    # 计算成绩的方差\n",
    "print('成绩的最大值为：',s.max())    # 计算成绩的最大值\n",
    "print('成绩的最小值为：',s.min())    # 计算成绩的最小值\n",
    "print('大于平均分的学生有：',s[s>s.mean()]) \n",
    "sore = s[s>s.mean()]\n",
    "print('大于平均分的学生的成绩的人数：',sore.count())"
   ]
  },
  {
   "cell_type": "markdown",
   "id": "08912ab7",
   "metadata": {},
   "source": [
    "### 给定某城市一周的最高温度的series,找出温度超过30度的天数,计算平均温度,将温度从高到低排序,找出温度变化最大的两天"
   ]
  },
  {
   "cell_type": "code",
   "execution_count": 68,
   "id": "9ba90961",
   "metadata": {},
   "outputs": [
    {
     "name": "stdout",
     "output_type": "stream",
     "text": [
      "周一    28\n",
      "周二    31\n",
      "周三    29\n",
      "周四    32\n",
      "周五    30\n",
      "周六    27\n",
      "周日    33\n",
      "Name: 一周温度, dtype: int64\n",
      "温度超过30度的天数为： Index(['周二', '周四', '周日'], dtype='object')\n",
      "周一    NaN\n",
      "周二    3.0\n",
      "周三    2.0\n",
      "周四    3.0\n",
      "周五    2.0\n",
      "周六    3.0\n",
      "周日    6.0\n",
      "Name: 一周温度, dtype: float64\n",
      "温度变化最大的两天为： 周日\n",
      "温度变化最大的两天为： 周日 周二\n"
     ]
    }
   ],
   "source": [
    "temperature = pd.Series([28,31,29,32,30,27,33],index=['周一','周二','周三','周四','周五','周六','周日'],name='一周温度')\n",
    "print(temperature)\n",
    "print('温度超过30度的天数为：',temperature[temperature>30].index)\n",
    "# 找出温度bian化最大的两天\n",
    "temp_diff = temperature.diff().abs()    # 计算温度的变化值并取绝对值\n",
    "print(temp_diff)\n",
    "print('温度变化最大的两天为：',temp_diff.idxmax())\n",
    "t = temp_diff.sort_values(ascending=False)\n",
    "print('温度变化最大的两天为：',t.index[0],t.index[1])"
   ]
  }
 ],
 "metadata": {
  "kernelspec": {
   "display_name": "ac",
   "language": "python",
   "name": "python3"
  },
  "language_info": {
   "codemirror_mode": {
    "name": "ipython",
    "version": 3
   },
   "file_extension": ".py",
   "mimetype": "text/x-python",
   "name": "python",
   "nbconvert_exporter": "python",
   "pygments_lexer": "ipython3",
   "version": "3.12.12"
  }
 },
 "nbformat": 4,
 "nbformat_minor": 5
}
