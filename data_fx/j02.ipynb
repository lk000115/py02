{
 "cells": [
  {
   "cell_type": "code",
   "execution_count": 1,
   "id": "initial_id",
   "metadata": {
    "ExecuteTime": {
     "end_time": "2025-10-28T05:32:58.577761Z",
     "start_time": "2025-10-28T05:32:50.642813Z"
    },
    "collapsed": true
   },
   "outputs": [
    {
     "name": "stdout",
     "output_type": "stream",
     "text": [
      "sss----\n",
      "[1 2 3]\n"
     ]
    }
   ],
   "source": [
    "import numpy as np\n",
    "print(\"sss----\")\n",
    "arr = np.array([1,2,3])\n",
    "print(arr)"
   ]
  },
  {
   "cell_type": "code",
   "execution_count": 3,
   "id": "80c04fc63371e255",
   "metadata": {
    "ExecuteTime": {
     "end_time": "2025-10-28T05:38:54.215800Z",
     "start_time": "2025-10-28T05:38:54.209734Z"
    }
   },
   "outputs": [
    {
     "name": "stdout",
     "output_type": "stream",
     "text": [
      "[[0 0 0]\n",
      " [0 0 0]]\n"
     ]
    }
   ],
   "source": [
    "arr1 = np.zeros((2,3),dtype=int)\n",
    "print(arr1)"
   ]
  },
  {
   "cell_type": "code",
   "execution_count": 4,
   "id": "a818c4124afdb489",
   "metadata": {
    "ExecuteTime": {
     "end_time": "2025-10-28T05:42:49.529045Z",
     "start_time": "2025-10-28T05:42:49.522821Z"
    }
   },
   "outputs": [
    {
     "name": "stdout",
     "output_type": "stream",
     "text": [
      "[[1 1 1]\n",
      " [1 1 1]]\n"
     ]
    }
   ],
   "source": [
    "arr2 = np.ones((2,3),dtype=int)\n",
    "print(arr2)"
   ]
  },
  {
   "cell_type": "code",
   "execution_count": 5,
   "id": "cdbd428b004f93b5",
   "metadata": {
    "ExecuteTime": {
     "end_time": "2025-10-28T05:43:30.363996Z",
     "start_time": "2025-10-28T05:43:30.358769Z"
    }
   },
   "outputs": [
    {
     "name": "stdout",
     "output_type": "stream",
     "text": [
      "[[2025 2025 2025]\n",
      " [2025 2025 2025]]\n"
     ]
    }
   ],
   "source": [
    "# 初始化数组,2行3列,值是2025\n",
    "arr3 = np.full((2,3),2025)\n",
    "print(arr3)"
   ]
  },
  {
   "cell_type": "markdown",
   "id": "77ad62d3fc292a9",
   "metadata": {},
   "source": [
    "### 索引与切片\n"
   ]
  },
  {
   "cell_type": "code",
   "execution_count": 14,
   "id": "f9535623a1723872",
   "metadata": {
    "ExecuteTime": {
     "end_time": "2025-10-28T08:47:30.583118Z",
     "start_time": "2025-10-28T08:47:30.577263Z"
    }
   },
   "outputs": [
    {
     "name": "stdout",
     "output_type": "stream",
     "text": [
      "[22 14 62 24 43 60 66  2 86 83 20 67 45 20 53 48 27 11 36 79]\n",
      "[62 24 43]\n",
      "[62 43 60 66 86 83 67 45 53 48 36 79]\n"
     ]
    }
   ],
   "source": [
    "arr = np.random.randint(1,100,20)\n",
    "print(arr)\n",
    "print(arr[2:5])\n",
    "print(arr[arr > 30])"
   ]
  },
  {
   "cell_type": "code",
   "execution_count": 17,
   "id": "bc6bdbc4f3016157",
   "metadata": {
    "ExecuteTime": {
     "end_time": "2025-10-28T08:56:10.017512Z",
     "start_time": "2025-10-28T08:56:10.010611Z"
    }
   },
   "outputs": [
    {
     "name": "stdout",
     "output_type": "stream",
     "text": [
      "Ada Lovelace\n"
     ]
    }
   ],
   "source": [
    "name = \"ada LOVElace\"\n",
    "print(name.title())"
   ]
  }
 ],
 "metadata": {
  "kernelspec": {
   "display_name": "Python 3",
   "language": "python",
   "name": "python3"
  },
  "language_info": {
   "codemirror_mode": {
    "name": "ipython",
    "version": 2
   },
   "file_extension": ".py",
   "mimetype": "text/x-python",
   "name": "python",
   "nbconvert_exporter": "python",
   "pygments_lexer": "ipython2",
   "version": "2.7.6"
  }
 },
 "nbformat": 4,
 "nbformat_minor": 5
}
