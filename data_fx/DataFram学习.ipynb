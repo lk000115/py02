{
 "cells": [
  {
   "cell_type": "code",
   "execution_count": 35,
   "id": "556d883e",
   "metadata": {},
   "outputs": [
    {
     "name": "stdout",
     "output_type": "stream",
     "text": [
      "    name  age\n",
      "1   jack   18\n",
      "2   jane   19\n",
      "3  peter   20 \n",
      "\n",
      "name    peter\n",
      "age        20\n",
      "Name: 3, dtype: object\n",
      "获取某个元素\t 19\n"
     ]
    }
   ],
   "source": [
    "import pandas as pd\n",
    "import numpy as np\n",
    "s1 = pd.Series([1,2,3,4,5])\n",
    "s2 = pd.Series([6,7,8,9,10])       \n",
    "df = pd.DataFrame({'第一列':s1,'第二列':s2})   \n",
    "df = pd.DataFrame({'name':['jack','jane','peter'],'age':[18,19,20]},index=[1,2,3])\n",
    "print(df,'\\n') \n",
    "print(df.loc[3])   # 获取某行\n",
    "print('获取某个元素\\t',df.at[2, 'age'])  # 获取某个元素\n",
    "    "
   ]
  },
  {
   "cell_type": "code",
   "execution_count": 33,
   "id": "db91a5f5",
   "metadata": {},
   "outputs": [
    {
     "name": "stdout",
     "output_type": "stream",
     "text": [
      "获取第一列\n",
      "     name\n",
      "1   jack\n",
      "2   jane\n",
      "3  peter\n",
      "获取第一列\n",
      " 1     jack\n",
      "2     jane\n",
      "3    peter\n",
      "Name: name, dtype: object\n",
      "获取name列\n",
      " 1     jack\n",
      "2     jane\n",
      "3    peter\n",
      "Name: name, dtype: object\n"
     ]
    }
   ],
   "source": [
    "# 获取某列\n",
    "print('获取第一列\\n',df.loc[:,['name']])  # 获取某列\n",
    "print('获取第一列\\n',df['name'])  # 获取某列\n",
    "print('获取name列\\n',df.name)"
   ]
  },
  {
   "cell_type": "code",
   "execution_count": 34,
   "id": "b12f4d12",
   "metadata": {},
   "outputs": [
    {
     "name": "stdout",
     "output_type": "stream",
     "text": [
      "查看部分数据\n",
      "    name  age\n",
      "1  jack   18\n",
      "2  jane   19\n",
      "查看部分数据\n",
      "     name  age\n",
      "2   jane   19\n",
      "3  peter   20\n"
     ]
    }
   ],
   "source": [
    "# 查看部分数据\n",
    "print('查看部分数据\\n',df.head(2))  # 查看部分数据\n",
    "print('查看部分数据\\n',df.tail(2))  # 查看部分数据  "
   ]
  },
  {
   "cell_type": "code",
   "execution_count": 36,
   "id": "df5e6a8c",
   "metadata": {},
   "outputs": [
    {
     "data": {
      "text/html": [
       "<div>\n",
       "<style scoped>\n",
       "    .dataframe tbody tr th:only-of-type {\n",
       "        vertical-align: middle;\n",
       "    }\n",
       "\n",
       "    .dataframe tbody tr th {\n",
       "        vertical-align: top;\n",
       "    }\n",
       "\n",
       "    .dataframe thead th {\n",
       "        text-align: right;\n",
       "    }\n",
       "</style>\n",
       "<table border=\"1\" class=\"dataframe\">\n",
       "  <thead>\n",
       "    <tr style=\"text-align: right;\">\n",
       "      <th></th>\n",
       "      <th>name</th>\n",
       "      <th>age</th>\n",
       "    </tr>\n",
       "  </thead>\n",
       "  <tbody>\n",
       "    <tr>\n",
       "      <th>1</th>\n",
       "      <td>jack</td>\n",
       "      <td>18</td>\n",
       "    </tr>\n",
       "  </tbody>\n",
       "</table>\n",
       "</div>"
      ],
      "text/plain": [
       "   name  age\n",
       "1  jack   18"
      ]
     },
     "execution_count": 36,
     "metadata": {},
     "output_type": "execute_result"
    }
   ],
   "source": [
    "df.age<19\n",
    "df[df.age<19]   # 条件筛选"
   ]
  },
  {
   "cell_type": "code",
   "execution_count": 38,
   "id": "b25f9486",
   "metadata": {},
   "outputs": [
    {
     "data": {
      "text/html": [
       "<div>\n",
       "<style scoped>\n",
       "    .dataframe tbody tr th:only-of-type {\n",
       "        vertical-align: middle;\n",
       "    }\n",
       "\n",
       "    .dataframe tbody tr th {\n",
       "        vertical-align: top;\n",
       "    }\n",
       "\n",
       "    .dataframe thead th {\n",
       "        text-align: right;\n",
       "    }\n",
       "</style>\n",
       "<table border=\"1\" class=\"dataframe\">\n",
       "  <thead>\n",
       "    <tr style=\"text-align: right;\">\n",
       "      <th></th>\n",
       "      <th>name</th>\n",
       "      <th>age</th>\n",
       "    </tr>\n",
       "  </thead>\n",
       "  <tbody>\n",
       "    <tr>\n",
       "      <th>1</th>\n",
       "      <td>jack</td>\n",
       "      <td>NaN</td>\n",
       "    </tr>\n",
       "    <tr>\n",
       "      <th>2</th>\n",
       "      <td>NaN</td>\n",
       "      <td>NaN</td>\n",
       "    </tr>\n",
       "    <tr>\n",
       "      <th>3</th>\n",
       "      <td>NaN</td>\n",
       "      <td>NaN</td>\n",
       "    </tr>\n",
       "  </tbody>\n",
       "</table>\n",
       "</div>"
      ],
      "text/plain": [
       "   name  age\n",
       "1  jack  NaN\n",
       "2   NaN  NaN\n",
       "3   NaN  NaN"
      ]
     },
     "execution_count": 38,
     "metadata": {},
     "output_type": "execute_result"
    }
   ],
   "source": [
    "df[df.isin(['jack'])]"
   ]
  },
  {
   "cell_type": "code",
   "execution_count": null,
   "id": "2a146750",
   "metadata": {},
   "outputs": [
    {
     "name": "stdout",
     "output_type": "stream",
     "text": [
      "   姓名  语文  数学  英语\n",
      "0  张三  85  90  88\n",
      "1  李四  92  88  79\n",
      "2  王五  78  95  92\n",
      "3  赵六  90  85  87\n",
      "4  钱七  88  91  90 \n",
      "\n",
      "   姓名  语文  数学  英语   总分        平均分\n",
      "0  张三  85  90  88  263  87.666667\n",
      "1  李四  92  88  79  259  86.333333\n",
      "2  王五  78  95  92  265  88.333333\n",
      "3  赵六  90  85  87  262  87.333333\n",
      "4  钱七  88  91  90  269  89.666667 \n",
      "\n"
     ]
    }
   ],
   "source": [
    "# dataFrame 案例:学生成绩分析\n",
    "data = {'姓名': ['张三', '李四', '王五', '赵六', '钱七'],\n",
    "        '语文': [85, 92, 78, 90, 88],\n",
    "        '数学': [90, 88, 95, 85, 91],\n",
    "        '英语': [88, 79, 92, 87, 90]}\n",
    "df = pd.DataFrame(data)\n",
    "print(df,'\\n')\n",
    "# 计算每位学生的总分和平均分\n",
    "df['总分'] = df[['语文', '数学', '英语']].sum(axis=1)\n",
    "df['平均分'] = df[['语文', '数学', '英语']].mean(axis=1)\n",
    "print(df,'\\n')"
   ]
  },
  {
   "cell_type": "code",
   "execution_count": 62,
   "id": "1b494d50",
   "metadata": {},
   "outputs": [
    {
     "name": "stdout",
     "output_type": "stream",
     "text": [
      "数学成绩高于90或英语成绩大于85分的学生:\n",
      "    姓名  语文  数学  英语   总分        平均分\n",
      "0  张三  85  90  88  263  87.666667\n",
      "2  王五  78  95  92  265  88.333333\n",
      "3  赵六  90  85  87  262  87.333333\n",
      "4  钱七  88  91  90  269  89.666667\n"
     ]
    }
   ],
   "source": [
    "# 找出数学成绩高于90或英语成绩大于85分的学生\n",
    "filtered_df = df[(df['数学'] > 90) | (df['英语'] > 85)]\n",
    "print('数学成绩高于90或英语成绩大于85分的学生:\\n',filtered_df)"
   ]
  },
  {
   "cell_type": "code",
   "execution_count": null,
   "id": "73eec3a9",
   "metadata": {},
   "outputs": [
    {
     "name": "stdout",
     "output_type": "stream",
     "text": [
      "按照总分从高到低排序:\n",
      "    姓名  语文  数学  英语   总分        平均分\n",
      "4  钱七  88  91  90  269  89.666667\n",
      "2  王五  78  95  92  265  88.333333\n",
      "0  张三  85  90  88  263  87.666667\n",
      "3  赵六  90  85  87  262  87.333333\n",
      "1  李四  92  88  79  259  86.333333\n"
     ]
    }
   ],
   "source": [
    "#按照总分从高到低排序\n",
    "sorted_df = df.sort_values(by='总分', ascending=False)\n",
    "# 方法2: largest\n",
    "sorted_df2 = df.nlargest(3, columns='总分')    # 找出总分最高的3个学生\n",
    "print('按照总分从高到低排序:\\n',sorted_df2)\n"
   ]
  },
  {
   "cell_type": "code",
   "execution_count": 64,
   "id": "ebe0cff6",
   "metadata": {},
   "outputs": [
    {
     "name": "stdout",
     "output_type": "stream",
     "text": [
      "     产品  销售量    单价     销售额\n",
      "0    手机  150  3000  450000\n",
      "1   笔记本  120  5000  600000\n",
      "2    平板  100  2000  200000\n",
      "3    耳机   80   500   40000\n",
      "4  智能手表   60  1500   90000 \n",
      "\n"
     ]
    }
   ],
   "source": [
    "# dataframe 案例2 销售数据分析\n",
    "data = {'产品': ['手机', '笔记本', '平板', '耳机', '智能手表'],\n",
    "        '销售量': [150, 120, 100, 80, 60],\n",
    "        '单价': [3000, 5000, 2000, 500, 1500]}\n",
    "# 计算各种产品的销售总额\n",
    "df = pd.DataFrame(data)\n",
    "df['销售额'] = df['销售量'] * df['单价']\n",
    "print(df,'\\n')"
   ]
  },
  {
   "cell_type": "code",
   "execution_count": 69,
   "id": "28560784",
   "metadata": {},
   "outputs": [
    {
     "name": "stdout",
     "output_type": "stream",
     "text": [
      "销售额最高的产品:\n",
      "     产品  销售量    单价     销售额\n",
      "1  笔记本  120  5000  600000\n",
      "总销售额从高到低排序:\n",
      "      产品  销售量    单价     销售额\n",
      "1   笔记本  120  5000  600000\n",
      "0    手机  150  3000  450000\n",
      "2    平板  100  2000  200000\n",
      "4  智能手表   60  1500   90000\n",
      "3    耳机   80   500   40000\n"
     ]
    }
   ],
   "source": [
    "# 2 找出销售额最高的产品\n",
    "max_sales_product = df.loc[df['销售额'].idxmax()]\n",
    "max_sales_product2 = df.nlargest(1, columns='销售额')  # 方法2\n",
    "print('销售额最高的产品:\\n',max_sales_product2)\n",
    "\n",
    "# 总销售额从高到低排序\n",
    "sorted_df = df.sort_values(by='销售额', ascending=False)\n",
    "print('总销售额从高到低排序:\\n',sorted_df)      "
   ]
  },
  {
   "cell_type": "code",
   "execution_count": 70,
   "id": "d306ac00",
   "metadata": {},
   "outputs": [
    {
     "name": "stdout",
     "output_type": "stream",
     "text": [
      "   用户ID      用户名  商品类别  商品单价  购买数量\n",
      "0   101    alice  电子产品  1200     1\n",
      "1   102      bob    服装   300     3\n",
      "2   103  charles    图书   800     2\n",
      "3   104    david  运动用品   150     5\n",
      "4   105      eve  家居用品   200     4 \n",
      "\n"
     ]
    }
   ],
   "source": [
    "#案例3 电商用户行为分析\n",
    "data = {'用户ID': [101, 102, 103, 104, 105],\n",
    "        '用户名': ['alice', 'bob', 'charles', 'david', 'eve'],\n",
    "        '商品类别': ['电子产品', '服装', '图书', '运动用品', '家居用品'],\n",
    "        '商品单价': [1200, 300, 800, 150, 200],\n",
    "        '购买数量': [1, 3, 2, 5, 4]}\n",
    "df = pd.DataFrame(data)\n",
    "print(df,'\\n')"
   ]
  }
 ],
 "metadata": {
  "kernelspec": {
   "display_name": "ac",
   "language": "python",
   "name": "python3"
  },
  "language_info": {
   "codemirror_mode": {
    "name": "ipython",
    "version": 3
   },
   "file_extension": ".py",
   "mimetype": "text/x-python",
   "name": "python",
   "nbconvert_exporter": "python",
   "pygments_lexer": "ipython3",
   "version": "3.12.12"
  }
 },
 "nbformat": 4,
 "nbformat_minor": 5
}
